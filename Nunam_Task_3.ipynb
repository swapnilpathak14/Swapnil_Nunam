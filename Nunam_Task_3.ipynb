{
 "cells": [
  {
   "cell_type": "code",
   "execution_count": 3,
   "metadata": {},
   "outputs": [
    {
     "name": "stderr",
     "output_type": "stream",
     "text": [
      "Matplotlib is building the font cache; this may take a moment.\n"
     ]
    }
   ],
   "source": [
    "import pandas as pd\n",
    "import numpy as np\n",
    "import matplotlib.pyplot as plt\n",
    "import seaborn as sbn"
   ]
  },
  {
   "cell_type": "code",
   "execution_count": 6,
   "metadata": {},
   "outputs": [],
   "source": [
    "df_vol=pd.read_csv('detailVolDownSampled.csv')"
   ]
  },
  {
   "cell_type": "code",
   "execution_count": 7,
   "metadata": {},
   "outputs": [
    {
     "data": {
      "text/html": [
       "<div>\n",
       "<style scoped>\n",
       "    .dataframe tbody tr th:only-of-type {\n",
       "        vertical-align: middle;\n",
       "    }\n",
       "\n",
       "    .dataframe tbody tr th {\n",
       "        vertical-align: top;\n",
       "    }\n",
       "\n",
       "    .dataframe thead th {\n",
       "        text-align: right;\n",
       "    }\n",
       "</style>\n",
       "<table border=\"1\" class=\"dataframe\">\n",
       "  <thead>\n",
       "    <tr style=\"text-align: right;\">\n",
       "      <th></th>\n",
       "      <th>Realtime</th>\n",
       "      <th>Unnamed: 0</th>\n",
       "      <th>Record ID</th>\n",
       "      <th>Step Name</th>\n",
       "      <th>Relative Time(h:min:s.ms)</th>\n",
       "      <th>Realtime.1</th>\n",
       "      <th>Auxiliary channel TU1 U(V)</th>\n",
       "      <th>Gap of Voltage</th>\n",
       "    </tr>\n",
       "  </thead>\n",
       "  <tbody>\n",
       "    <tr>\n",
       "      <th>0</th>\n",
       "      <td>2020-10-11 14:15:00</td>\n",
       "      <td>0.0</td>\n",
       "      <td>65536.0</td>\n",
       "      <td>1.0</td>\n",
       "      <td>1:44:08.000</td>\n",
       "      <td>2020-10-11 14:15:35</td>\n",
       "      <td>-0.0013</td>\n",
       "      <td>0.0</td>\n",
       "    </tr>\n",
       "    <tr>\n",
       "      <th>1</th>\n",
       "      <td>2020-10-11 14:16:00</td>\n",
       "      <td>25.0</td>\n",
       "      <td>65561.0</td>\n",
       "      <td>1.0</td>\n",
       "      <td>1:44:33.000</td>\n",
       "      <td>2020-10-11 14:16:00</td>\n",
       "      <td>-0.0013</td>\n",
       "      <td>0.0</td>\n",
       "    </tr>\n",
       "    <tr>\n",
       "      <th>2</th>\n",
       "      <td>2020-10-11 14:17:00</td>\n",
       "      <td>85.0</td>\n",
       "      <td>65621.0</td>\n",
       "      <td>1.0</td>\n",
       "      <td>1:45:33.000</td>\n",
       "      <td>2020-10-11 14:17:00</td>\n",
       "      <td>-0.0013</td>\n",
       "      <td>0.0</td>\n",
       "    </tr>\n",
       "    <tr>\n",
       "      <th>3</th>\n",
       "      <td>2020-10-11 14:18:00</td>\n",
       "      <td>145.0</td>\n",
       "      <td>65681.0</td>\n",
       "      <td>1.0</td>\n",
       "      <td>1:46:33.000</td>\n",
       "      <td>2020-10-11 14:18:00</td>\n",
       "      <td>-0.0012</td>\n",
       "      <td>0.0</td>\n",
       "    </tr>\n",
       "    <tr>\n",
       "      <th>4</th>\n",
       "      <td>2020-10-11 14:19:00</td>\n",
       "      <td>205.0</td>\n",
       "      <td>65741.0</td>\n",
       "      <td>1.0</td>\n",
       "      <td>1:47:33.000</td>\n",
       "      <td>2020-10-11 14:19:00</td>\n",
       "      <td>-0.0012</td>\n",
       "      <td>0.0</td>\n",
       "    </tr>\n",
       "    <tr>\n",
       "      <th>...</th>\n",
       "      <td>...</td>\n",
       "      <td>...</td>\n",
       "      <td>...</td>\n",
       "      <td>...</td>\n",
       "      <td>...</td>\n",
       "      <td>...</td>\n",
       "      <td>...</td>\n",
       "      <td>...</td>\n",
       "    </tr>\n",
       "    <tr>\n",
       "      <th>6546</th>\n",
       "      <td>2020-10-16 03:21:00</td>\n",
       "      <td>23191.0</td>\n",
       "      <td>458355.0</td>\n",
       "      <td>2.0</td>\n",
       "      <td>0:05:21.000</td>\n",
       "      <td>2020-10-16 03:21:00</td>\n",
       "      <td>-0.0012</td>\n",
       "      <td>0.0</td>\n",
       "    </tr>\n",
       "    <tr>\n",
       "      <th>6547</th>\n",
       "      <td>2020-10-16 03:22:00</td>\n",
       "      <td>23251.0</td>\n",
       "      <td>458415.0</td>\n",
       "      <td>2.0</td>\n",
       "      <td>0:06:21.000</td>\n",
       "      <td>2020-10-16 03:22:00</td>\n",
       "      <td>-0.0012</td>\n",
       "      <td>0.0</td>\n",
       "    </tr>\n",
       "    <tr>\n",
       "      <th>6548</th>\n",
       "      <td>2020-10-16 03:23:00</td>\n",
       "      <td>23311.0</td>\n",
       "      <td>458475.0</td>\n",
       "      <td>2.0</td>\n",
       "      <td>0:07:21.000</td>\n",
       "      <td>2020-10-16 03:23:00</td>\n",
       "      <td>-0.0012</td>\n",
       "      <td>0.0</td>\n",
       "    </tr>\n",
       "    <tr>\n",
       "      <th>6549</th>\n",
       "      <td>2020-10-16 03:24:00</td>\n",
       "      <td>23371.0</td>\n",
       "      <td>458535.0</td>\n",
       "      <td>2.0</td>\n",
       "      <td>0:08:21.000</td>\n",
       "      <td>2020-10-16 03:24:00</td>\n",
       "      <td>-0.0012</td>\n",
       "      <td>0.0</td>\n",
       "    </tr>\n",
       "    <tr>\n",
       "      <th>6550</th>\n",
       "      <td>2020-10-16 03:25:00</td>\n",
       "      <td>23431.0</td>\n",
       "      <td>458595.0</td>\n",
       "      <td>2.0</td>\n",
       "      <td>0:09:21.000</td>\n",
       "      <td>2020-10-16 03:25:00</td>\n",
       "      <td>-0.0012</td>\n",
       "      <td>0.0</td>\n",
       "    </tr>\n",
       "  </tbody>\n",
       "</table>\n",
       "<p>6551 rows × 8 columns</p>\n",
       "</div>"
      ],
      "text/plain": [
       "                 Realtime  Unnamed: 0  Record ID  Step Name  \\\n",
       "0     2020-10-11 14:15:00         0.0    65536.0        1.0   \n",
       "1     2020-10-11 14:16:00        25.0    65561.0        1.0   \n",
       "2     2020-10-11 14:17:00        85.0    65621.0        1.0   \n",
       "3     2020-10-11 14:18:00       145.0    65681.0        1.0   \n",
       "4     2020-10-11 14:19:00       205.0    65741.0        1.0   \n",
       "...                   ...         ...        ...        ...   \n",
       "6546  2020-10-16 03:21:00     23191.0   458355.0        2.0   \n",
       "6547  2020-10-16 03:22:00     23251.0   458415.0        2.0   \n",
       "6548  2020-10-16 03:23:00     23311.0   458475.0        2.0   \n",
       "6549  2020-10-16 03:24:00     23371.0   458535.0        2.0   \n",
       "6550  2020-10-16 03:25:00     23431.0   458595.0        2.0   \n",
       "\n",
       "     Relative Time(h:min:s.ms)           Realtime.1  \\\n",
       "0                  1:44:08.000  2020-10-11 14:15:35   \n",
       "1                  1:44:33.000  2020-10-11 14:16:00   \n",
       "2                  1:45:33.000  2020-10-11 14:17:00   \n",
       "3                  1:46:33.000  2020-10-11 14:18:00   \n",
       "4                  1:47:33.000  2020-10-11 14:19:00   \n",
       "...                        ...                  ...   \n",
       "6546               0:05:21.000  2020-10-16 03:21:00   \n",
       "6547               0:06:21.000  2020-10-16 03:22:00   \n",
       "6548               0:07:21.000  2020-10-16 03:23:00   \n",
       "6549               0:08:21.000  2020-10-16 03:24:00   \n",
       "6550               0:09:21.000  2020-10-16 03:25:00   \n",
       "\n",
       "      Auxiliary channel TU1 U(V)  Gap of Voltage  \n",
       "0                        -0.0013             0.0  \n",
       "1                        -0.0013             0.0  \n",
       "2                        -0.0013             0.0  \n",
       "3                        -0.0012             0.0  \n",
       "4                        -0.0012             0.0  \n",
       "...                          ...             ...  \n",
       "6546                     -0.0012             0.0  \n",
       "6547                     -0.0012             0.0  \n",
       "6548                     -0.0012             0.0  \n",
       "6549                     -0.0012             0.0  \n",
       "6550                     -0.0012             0.0  \n",
       "\n",
       "[6551 rows x 8 columns]"
      ]
     },
     "execution_count": 7,
     "metadata": {},
     "output_type": "execute_result"
    }
   ],
   "source": [
    "df_vol"
   ]
  },
  {
   "cell_type": "code",
   "execution_count": 8,
   "metadata": {},
   "outputs": [],
   "source": [
    "from scipy.signal import butter,filtfilt"
   ]
  },
  {
   "cell_type": "code",
   "execution_count": 9,
   "metadata": {},
   "outputs": [
    {
     "data": {
      "text/plain": [
       "<AxesSubplot:>"
      ]
     },
     "execution_count": 9,
     "metadata": {},
     "output_type": "execute_result"
    },
    {
     "data": {
      "image/png": "[encoded data removed]",
      "text/plain": [
       "<Figure size 1440x288 with 1 Axes>"
      ]
     },
     "metadata": {
      "needs_background": "light"
     },
     "output_type": "display_data"
    }
   ],
   "source": [
    "df_vol.plot(y='Auxiliary channel TU1 U(V)', figsize=(20,4))"
   ]
  },
  {
   "cell_type": "code",
   "execution_count": 14,
   "metadata": {},
   "outputs": [
    {
     "name": "stdout",
     "output_type": "stream",
     "text": [
      "Collecting plotly==4.14.3\n",
      "  Downloading https://files.pythonhosted.org/packages/1f/f6/bd3c17c8003b6641df1228e80e1acac97ed8402635e46c2571f8e1ef63af/plotly-4.14.3-py2.py3-none-any.whl (13.2MB)\n",
      "Requirement already satisfied: six in c:\\users\\lucif\\anaconda3\\lib\\site-packages (from plotly==4.14.3) (1.12.0)\n",
      "Collecting retrying>=1.3.3 (from plotly==4.14.3)\n",
      "  Downloading https://files.pythonhosted.org/packages/44/ef/beae4b4ef80902f22e3af073397f079c96969c69b2c7d52a57ea9ae61c9d/retrying-1.3.3.tar.gz\n",
      "Building wheels for collected packages: retrying\n",
      "  Running setup.py bdist_wheel for retrying: started\n",
      "  Running setup.py bdist_wheel for retrying: finished with status 'done'\n",
      "  Stored in directory: C:\\Users\\lucif\\AppData\\Local\\pip\\Cache\\wheels\\d7\\a9\\33\\acc7b709e2a35caa7d4cae442f6fe6fbf2c43f80823d46460c\n",
      "Successfully built retrying\n",
      "Installing collected packages: retrying, plotly\n",
      "Successfully installed plotly-4.14.3 retrying-1.3.3\n"
     ]
    }
   ],
   "source": [
    "!pip install plotly==4.14.3"
   ]
  },
  {
   "cell_type": "code",
   "execution_count": 16,
   "metadata": {},
   "outputs": [
    {
     "name": "stdout",
     "output_type": "stream",
     "text": [
      "Collecting chart_studio\n",
      "  Downloading https://files.pythonhosted.org/packages/ca/ce/330794a6b6ca4b9182c38fc69dd2a9cbff60fd49421cb8648ee5fee352dc/chart_studio-1.1.0-py3-none-any.whl (64kB)\n",
      "Requirement already satisfied: requests in c:\\users\\lucif\\appdata\\roaming\\python\\python37\\site-packages (from chart_studio) (2.25.1)\n",
      "Requirement already satisfied: six in c:\\users\\lucif\\anaconda3\\lib\\site-packages (from chart_studio) (1.12.0)\n",
      "Requirement already satisfied: retrying>=1.3.3 in c:\\users\\lucif\\anaconda3\\lib\\site-packages (from chart_studio) (1.3.3)\n",
      "Requirement already satisfied: plotly in c:\\users\\lucif\\anaconda3\\lib\\site-packages (from chart_studio) (4.14.3)\n",
      "Requirement already satisfied: idna<3,>=2.5 in c:\\users\\lucif\\anaconda3\\lib\\site-packages (from requests->chart_studio) (2.8)\n",
      "Requirement already satisfied: urllib3<1.27,>=1.21.1 in c:\\users\\lucif\\anaconda3\\lib\\site-packages (from requests->chart_studio) (1.24.1)\n",
      "Requirement already satisfied: chardet<5,>=3.0.2 in c:\\users\\lucif\\anaconda3\\lib\\site-packages (from requests->chart_studio) (3.0.4)\n",
      "Requirement already satisfied: certifi>=2017.4.17 in c:\\users\\lucif\\anaconda3\\lib\\site-packages (from requests->chart_studio) (2019.11.28)\n",
      "Installing collected packages: chart-studio\n",
      "Successfully installed chart-studio-1.1.0\n"
     ]
    }
   ],
   "source": [
    "!pip install chart_studio"
   ]
  },
  {
   "cell_type": "code",
   "execution_count": 20,
   "metadata": {},
   "outputs": [],
   "source": [
    "import chart_studio\n",
    "import chart_studio.plotly as py\n",
    "import plotly.graph_objs as go\n",
    "\n",
    "import plotly.figure_factory as ff\n",
    "df = df_vol"
   ]
  },
  {
   "cell_type": "code",
   "execution_count": null,
   "metadata": {},
   "outputs": [],
   "source": []
  }
 ],
 "metadata": {
  "kernelspec": {
   "display_name": "Python 3",
   "language": "python",
   "name": "python3"
  },
  "language_info": {
   "codemirror_mode": {
    "name": "ipython",
    "version": 3
   },
   "file_extension": ".py",
   "mimetype": "text/x-python",
   "name": "python",
   "nbconvert_exporter": "python",
   "pygments_lexer": "ipython3",
   "version": "3.7.1"
  }
 },
 "nbformat": 4,
 "nbformat_minor": 2
}
